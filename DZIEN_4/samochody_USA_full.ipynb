{
 "cells":[
  {
   "cell_type":"code",
   "source":[
    "import matplotlib.pyplot as plt\n",
    "import numpy as np\n",
    "import pandas as pd\n",
    "import seaborn as sns\n",
    "\n",
    "np.set_printoptions(precision=3,suppress=True)"
   ],
   "execution_count":1,
   "outputs":[
    
   ],
   "metadata":{
    "datalore":{
     "node_id":"vv6eUxG3RIGW87Z4brgkbw",
     "type":"CODE",
     "hide_input_from_viewers":false,
     "hide_output_from_viewers":false,
     "report_properties":{
      "rowId":"qNWwEC7wc0idAzJW22yxvi"
     }
    }
   }
  },
  {
   "cell_type":"code",
   "source":[
    "import tensorflow as tf\n",
    "from tensorflow import keras\n",
    "from tensorflow.keras import layers"
   ],
   "execution_count":2,
   "outputs":[
    
   ],
   "metadata":{
    "datalore":{
     "node_id":"L1fuRvzOk9wZimGWMC6zt6",
     "type":"CODE",
     "hide_input_from_viewers":false,
     "hide_output_from_viewers":false,
     "report_properties":{
      "rowId":"azA83995KTAsoHsR55S8YI"
     }
    }
   }
  },
  {
   "cell_type":"code",
   "source":[
    "url = \"https:\/\/archive.ics.uci.edu\/ml\/machine-learning-databases\/auto-mpg\/auto-mpg.data\"\n",
    "column_names = ['MPG','Cylinders','Displacement','Horsepower','Weight','Acceleration','Model Year','Origin']\n",
    "raw_dataset = pd.read_csv(url,names=column_names,\n",
    "                          na_values='?', comment='\\t',\n",
    "                          sep=' ', skipinitialspace=True)"
   ],
   "execution_count":3,
   "outputs":[
    
   ],
   "metadata":{
    "datalore":{
     "node_id":"JOWgVaPYMwHWJCfgBGXDIr",
     "type":"CODE",
     "hide_input_from_viewers":false,
     "hide_output_from_viewers":false,
     "report_properties":{
      "rowId":"rgbBX9eympuvqd2XciO3Hn"
     }
    }
   }
  },
  {
   "cell_type":"code",
   "source":[
    "dataset = raw_dataset.copy()\n",
    "dataset.tail()"
   ],
   "execution_count":4,
   "outputs":[
    {
     "data":{
      "text\/html":[
       "<div>\n",
       "<style scoped>\n",
       "    .dataframe tbody tr th:only-of-type {\n",
       "        vertical-align: middle;\n",
       "    }\n",
       "\n",
       "    .dataframe tbody tr th {\n",
       "        vertical-align: top;\n",
       "    }\n",
       "\n",
       "    .dataframe thead th {\n",
       "        text-align: right;\n",
       "    }\n",
       "<\/style>\n",
       "<table border=\"1\" class=\"dataframe\">\n",
       "  <thead>\n",
       "    <tr style=\"text-align: right;\">\n",
       "      <th><\/th>\n",
       "      <th>MPG<\/th>\n",
       "      <th>Cylinders<\/th>\n",
       "      <th>Displacement<\/th>\n",
       "      <th>Horsepower<\/th>\n",
       "      <th>Weight<\/th>\n",
       "      <th>Acceleration<\/th>\n",
       "      <th>Model Year<\/th>\n",
       "      <th>Origin<\/th>\n",
       "    <\/tr>\n",
       "  <\/thead>\n",
       "  <tbody>\n",
       "    <tr>\n",
       "      <th>393<\/th>\n",
       "      <td>27.0<\/td>\n",
       "      <td>4<\/td>\n",
       "      <td>140.0<\/td>\n",
       "      <td>86.0<\/td>\n",
       "      <td>2790.0<\/td>\n",
       "      <td>15.6<\/td>\n",
       "      <td>82<\/td>\n",
       "      <td>1<\/td>\n",
       "    <\/tr>\n",
       "    <tr>\n",
       "      <th>394<\/th>\n",
       "      <td>44.0<\/td>\n",
       "      <td>4<\/td>\n",
       "      <td>97.0<\/td>\n",
       "      <td>52.0<\/td>\n",
       "      <td>2130.0<\/td>\n",
       "      <td>24.6<\/td>\n",
       "      <td>82<\/td>\n",
       "      <td>2<\/td>\n",
       "    <\/tr>\n",
       "    <tr>\n",
       "      <th>395<\/th>\n",
       "      <td>32.0<\/td>\n",
       "      <td>4<\/td>\n",
       "      <td>135.0<\/td>\n",
       "      <td>84.0<\/td>\n",
       "      <td>2295.0<\/td>\n",
       "      <td>11.6<\/td>\n",
       "      <td>82<\/td>\n",
       "      <td>1<\/td>\n",
       "    <\/tr>\n",
       "    <tr>\n",
       "      <th>396<\/th>\n",
       "      <td>28.0<\/td>\n",
       "      <td>4<\/td>\n",
       "      <td>120.0<\/td>\n",
       "      <td>79.0<\/td>\n",
       "      <td>2625.0<\/td>\n",
       "      <td>18.6<\/td>\n",
       "      <td>82<\/td>\n",
       "      <td>1<\/td>\n",
       "    <\/tr>\n",
       "    <tr>\n",
       "      <th>397<\/th>\n",
       "      <td>31.0<\/td>\n",
       "      <td>4<\/td>\n",
       "      <td>119.0<\/td>\n",
       "      <td>82.0<\/td>\n",
       "      <td>2720.0<\/td>\n",
       "      <td>19.4<\/td>\n",
       "      <td>82<\/td>\n",
       "      <td>1<\/td>\n",
       "    <\/tr>\n",
       "  <\/tbody>\n",
       "<\/table>\n",
       "<\/div>"
      ]
     },
     "metadata":{
      
     },
     "output_type":"display_data"
    }
   ],
   "metadata":{
    "datalore":{
     "node_id":"qIg3iXbBXj4loqO16j2M1Q",
     "type":"CODE",
     "hide_input_from_viewers":false,
     "hide_output_from_viewers":false,
     "report_properties":{
      "rowId":"LCw3yKQ0vOLh64lGI2ZqBf"
     }
    }
   }
  },
  {
   "cell_type":"code",
   "source":[
    "dataset.isna().sum()"
   ],
   "execution_count":5,
   "outputs":[
    {
     "data":{
      "text\/html":[
       "<pre>MPG             0\n",
       "Cylinders       0\n",
       "Displacement    0\n",
       "Horsepower      6\n",
       "Weight          0\n",
       "Acceleration    0\n",
       "Model Year      0\n",
       "Origin          0\n",
       "dtype: int64<\/pre>"
      ]
     },
     "metadata":{
      
     },
     "output_type":"display_data"
    }
   ],
   "metadata":{
    "datalore":{
     "node_id":"f1gaiTsaJLT08kPpLqiuea",
     "type":"CODE",
     "hide_input_from_viewers":false,
     "hide_output_from_viewers":false,
     "report_properties":{
      "rowId":"w3GYM7RsANKS3CMEexYtWc"
     }
    }
   }
  },
  {
   "cell_type":"code",
   "source":[
    "dataset = dataset.dropna()"
   ],
   "execution_count":6,
   "outputs":[
    
   ],
   "metadata":{
    "datalore":{
     "node_id":"bY3xjoNS9eCcvkRQ0pDgUn",
     "type":"CODE",
     "hide_input_from_viewers":false,
     "hide_output_from_viewers":false,
     "report_properties":{
      "rowId":"YZYZQC2oJx9uqcKXAvlxN7"
     }
    }
   }
  },
  {
   "cell_type":"code",
   "source":[
    "dataset.isna().sum()"
   ],
   "execution_count":7,
   "outputs":[
    {
     "data":{
      "text\/html":[
       "<pre>MPG             0\n",
       "Cylinders       0\n",
       "Displacement    0\n",
       "Horsepower      0\n",
       "Weight          0\n",
       "Acceleration    0\n",
       "Model Year      0\n",
       "Origin          0\n",
       "dtype: int64<\/pre>"
      ]
     },
     "metadata":{
      
     },
     "output_type":"display_data"
    }
   ],
   "metadata":{
    "datalore":{
     "node_id":"TUVepZ1ki8pjBOizA1J80E",
     "type":"CODE",
     "hide_input_from_viewers":false,
     "hide_output_from_viewers":false,
     "report_properties":{
      "rowId":"WNtfRB3uEcPgOm2XVdNs4T"
     }
    }
   }
  },
  {
   "cell_type":"code",
   "source":[
    "dataset['Origin'] = dataset['Origin'].map({1:'USA',2:'Europe',3:'Japan'})"
   ],
   "execution_count":8,
   "outputs":[
    
   ],
   "metadata":{
    "datalore":{
     "node_id":"WDqjC6zIJRfg0MdgvOVhfJ",
     "type":"CODE",
     "hide_input_from_viewers":false,
     "hide_output_from_viewers":false,
     "report_properties":{
      "rowId":"r32TZsWGRPUskBJCw8wyxX"
     }
    }
   }
  },
  {
   "cell_type":"code",
   "source":[
    "dataset.tail()"
   ],
   "execution_count":9,
   "outputs":[
    {
     "data":{
      "text\/html":[
       "<div>\n",
       "<style scoped>\n",
       "    .dataframe tbody tr th:only-of-type {\n",
       "        vertical-align: middle;\n",
       "    }\n",
       "\n",
       "    .dataframe tbody tr th {\n",
       "        vertical-align: top;\n",
       "    }\n",
       "\n",
       "    .dataframe thead th {\n",
       "        text-align: right;\n",
       "    }\n",
       "<\/style>\n",
       "<table border=\"1\" class=\"dataframe\">\n",
       "  <thead>\n",
       "    <tr style=\"text-align: right;\">\n",
       "      <th><\/th>\n",
       "      <th>MPG<\/th>\n",
       "      <th>Cylinders<\/th>\n",
       "      <th>Displacement<\/th>\n",
       "      <th>Horsepower<\/th>\n",
       "      <th>Weight<\/th>\n",
       "      <th>Acceleration<\/th>\n",
       "      <th>Model Year<\/th>\n",
       "      <th>Origin<\/th>\n",
       "    <\/tr>\n",
       "  <\/thead>\n",
       "  <tbody>\n",
       "    <tr>\n",
       "      <th>393<\/th>\n",
       "      <td>27.0<\/td>\n",
       "      <td>4<\/td>\n",
       "      <td>140.0<\/td>\n",
       "      <td>86.0<\/td>\n",
       "      <td>2790.0<\/td>\n",
       "      <td>15.6<\/td>\n",
       "      <td>82<\/td>\n",
       "      <td>USA<\/td>\n",
       "    <\/tr>\n",
       "    <tr>\n",
       "      <th>394<\/th>\n",
       "      <td>44.0<\/td>\n",
       "      <td>4<\/td>\n",
       "      <td>97.0<\/td>\n",
       "      <td>52.0<\/td>\n",
       "      <td>2130.0<\/td>\n",
       "      <td>24.6<\/td>\n",
       "      <td>82<\/td>\n",
       "      <td>Europe<\/td>\n",
       "    <\/tr>\n",
       "    <tr>\n",
       "      <th>395<\/th>\n",
       "      <td>32.0<\/td>\n",
       "      <td>4<\/td>\n",
       "      <td>135.0<\/td>\n",
       "      <td>84.0<\/td>\n",
       "      <td>2295.0<\/td>\n",
       "      <td>11.6<\/td>\n",
       "      <td>82<\/td>\n",
       "      <td>USA<\/td>\n",
       "    <\/tr>\n",
       "    <tr>\n",
       "      <th>396<\/th>\n",
       "      <td>28.0<\/td>\n",
       "      <td>4<\/td>\n",
       "      <td>120.0<\/td>\n",
       "      <td>79.0<\/td>\n",
       "      <td>2625.0<\/td>\n",
       "      <td>18.6<\/td>\n",
       "      <td>82<\/td>\n",
       "      <td>USA<\/td>\n",
       "    <\/tr>\n",
       "    <tr>\n",
       "      <th>397<\/th>\n",
       "      <td>31.0<\/td>\n",
       "      <td>4<\/td>\n",
       "      <td>119.0<\/td>\n",
       "      <td>82.0<\/td>\n",
       "      <td>2720.0<\/td>\n",
       "      <td>19.4<\/td>\n",
       "      <td>82<\/td>\n",
       "      <td>USA<\/td>\n",
       "    <\/tr>\n",
       "  <\/tbody>\n",
       "<\/table>\n",
       "<\/div>"
      ]
     },
     "metadata":{
      
     },
     "output_type":"display_data"
    }
   ],
   "metadata":{
    "datalore":{
     "node_id":"kiYtyVXLFR5zUsxOvtNNWE",
     "type":"CODE",
     "hide_input_from_viewers":false,
     "hide_output_from_viewers":false,
     "report_properties":{
      "rowId":"In3egQjbL9rSQPPOVuWQjF"
     }
    }
   }
  },
  {
   "cell_type":"code",
   "source":[
    "dataset = pd.get_dummies(dataset,columns=['Origin'],prefix='',prefix_sep='')\n",
    "dataset.tail()"
   ],
   "execution_count":10,
   "outputs":[
    {
     "data":{
      "text\/html":[
       "<div>\n",
       "<style scoped>\n",
       "    .dataframe tbody tr th:only-of-type {\n",
       "        vertical-align: middle;\n",
       "    }\n",
       "\n",
       "    .dataframe tbody tr th {\n",
       "        vertical-align: top;\n",
       "    }\n",
       "\n",
       "    .dataframe thead th {\n",
       "        text-align: right;\n",
       "    }\n",
       "<\/style>\n",
       "<table border=\"1\" class=\"dataframe\">\n",
       "  <thead>\n",
       "    <tr style=\"text-align: right;\">\n",
       "      <th><\/th>\n",
       "      <th>MPG<\/th>\n",
       "      <th>Cylinders<\/th>\n",
       "      <th>Displacement<\/th>\n",
       "      <th>Horsepower<\/th>\n",
       "      <th>Weight<\/th>\n",
       "      <th>Acceleration<\/th>\n",
       "      <th>Model Year<\/th>\n",
       "      <th>Europe<\/th>\n",
       "      <th>Japan<\/th>\n",
       "      <th>USA<\/th>\n",
       "    <\/tr>\n",
       "  <\/thead>\n",
       "  <tbody>\n",
       "    <tr>\n",
       "      <th>393<\/th>\n",
       "      <td>27.0<\/td>\n",
       "      <td>4<\/td>\n",
       "      <td>140.0<\/td>\n",
       "      <td>86.0<\/td>\n",
       "      <td>2790.0<\/td>\n",
       "      <td>15.6<\/td>\n",
       "      <td>82<\/td>\n",
       "      <td>0<\/td>\n",
       "      <td>0<\/td>\n",
       "      <td>1<\/td>\n",
       "    <\/tr>\n",
       "    <tr>\n",
       "      <th>394<\/th>\n",
       "      <td>44.0<\/td>\n",
       "      <td>4<\/td>\n",
       "      <td>97.0<\/td>\n",
       "      <td>52.0<\/td>\n",
       "      <td>2130.0<\/td>\n",
       "      <td>24.6<\/td>\n",
       "      <td>82<\/td>\n",
       "      <td>1<\/td>\n",
       "      <td>0<\/td>\n",
       "      <td>0<\/td>\n",
       "    <\/tr>\n",
       "    <tr>\n",
       "      <th>395<\/th>\n",
       "      <td>32.0<\/td>\n",
       "      <td>4<\/td>\n",
       "      <td>135.0<\/td>\n",
       "      <td>84.0<\/td>\n",
       "      <td>2295.0<\/td>\n",
       "      <td>11.6<\/td>\n",
       "      <td>82<\/td>\n",
       "      <td>0<\/td>\n",
       "      <td>0<\/td>\n",
       "      <td>1<\/td>\n",
       "    <\/tr>\n",
       "    <tr>\n",
       "      <th>396<\/th>\n",
       "      <td>28.0<\/td>\n",
       "      <td>4<\/td>\n",
       "      <td>120.0<\/td>\n",
       "      <td>79.0<\/td>\n",
       "      <td>2625.0<\/td>\n",
       "      <td>18.6<\/td>\n",
       "      <td>82<\/td>\n",
       "      <td>0<\/td>\n",
       "      <td>0<\/td>\n",
       "      <td>1<\/td>\n",
       "    <\/tr>\n",
       "    <tr>\n",
       "      <th>397<\/th>\n",
       "      <td>31.0<\/td>\n",
       "      <td>4<\/td>\n",
       "      <td>119.0<\/td>\n",
       "      <td>82.0<\/td>\n",
       "      <td>2720.0<\/td>\n",
       "      <td>19.4<\/td>\n",
       "      <td>82<\/td>\n",
       "      <td>0<\/td>\n",
       "      <td>0<\/td>\n",
       "      <td>1<\/td>\n",
       "    <\/tr>\n",
       "  <\/tbody>\n",
       "<\/table>\n",
       "<\/div>"
      ]
     },
     "metadata":{
      
     },
     "output_type":"display_data"
    }
   ],
   "metadata":{
    "datalore":{
     "node_id":"ChW8AipG4yIVfyaVCmBfUf",
     "type":"CODE",
     "hide_input_from_viewers":false,
     "hide_output_from_viewers":false,
     "report_properties":{
      "rowId":"4B1EzjIxk9EwfFjLeJFnvj"
     }
    }
   }
  },
  {
   "cell_type":"code",
   "source":[
    "train_dataset = dataset.sample(frac=0.8,random_state=0)\n",
    "test_dataset = dataset.drop(train_dataset.index)"
   ],
   "execution_count":11,
   "outputs":[
    
   ],
   "metadata":{
    "datalore":{
     "node_id":"ZsZBABmVpWwTtmTmAu6AGM",
     "type":"CODE",
     "hide_input_from_viewers":false,
     "hide_output_from_viewers":false,
     "report_properties":{
      "rowId":"0vhJSrYNXHnq3nfpcBuH3G"
     }
    }
   }
  },
  {
   "cell_type":"code",
   "source":[
    "sns.pairplot(train_dataset[['MPG','Cylinders','Displacement','Weight']],diag_kind='kde')"
   ],
   "execution_count":12,
   "outputs":[
    {
     "data":{
      "text\/plain":[
       "<seaborn.axisgrid.PairGrid at 0x7f19250b7ee0>"
      ]
     },
     "metadata":{
      
     },
     "output_type":"display_data"
    },
    {
     "data":{
      "image\/png":"[encoded data removed]"
     },
     "metadata":{
      "image\/png":{
       
      }
     },
     "output_type":"display_data"
    }
   ],
   "metadata":{
    "datalore":{
     "node_id":"AB0LBHYc85V7rZLnvS8gsi",
     "type":"CODE",
     "hide_input_from_viewers":false,
     "hide_output_from_viewers":false,
     "report_properties":{
      "rowId":"4wcTfqsEFA9y1aoZpgdmzf"
     }
    }
   }
  },
  {
   "cell_type":"code",
   "source":[
    "train_dataset.describe().transpose()"
   ],
   "execution_count":13,
   "outputs":[
    {
     "data":{
      "text\/html":[
       "<div>\n",
       "<style scoped>\n",
       "    .dataframe tbody tr th:only-of-type {\n",
       "        vertical-align: middle;\n",
       "    }\n",
       "\n",
       "    .dataframe tbody tr th {\n",
       "        vertical-align: top;\n",
       "    }\n",
       "\n",
       "    .dataframe thead th {\n",
       "        text-align: right;\n",
       "    }\n",
       "<\/style>\n",
       "<table border=\"1\" class=\"dataframe\">\n",
       "  <thead>\n",
       "    <tr style=\"text-align: right;\">\n",
       "      <th><\/th>\n",
       "      <th>count<\/th>\n",
       "      <th>mean<\/th>\n",
       "      <th>std<\/th>\n",
       "      <th>min<\/th>\n",
       "      <th>25%<\/th>\n",
       "      <th>50%<\/th>\n",
       "      <th>75%<\/th>\n",
       "      <th>max<\/th>\n",
       "    <\/tr>\n",
       "  <\/thead>\n",
       "  <tbody>\n",
       "    <tr>\n",
       "      <th>MPG<\/th>\n",
       "      <td>314.0<\/td>\n",
       "      <td>23.310510<\/td>\n",
       "      <td>7.728652<\/td>\n",
       "      <td>10.0<\/td>\n",
       "      <td>17.00<\/td>\n",
       "      <td>22.0<\/td>\n",
       "      <td>28.95<\/td>\n",
       "      <td>46.6<\/td>\n",
       "    <\/tr>\n",
       "    <tr>\n",
       "      <th>Cylinders<\/th>\n",
       "      <td>314.0<\/td>\n",
       "      <td>5.477707<\/td>\n",
       "      <td>1.699788<\/td>\n",
       "      <td>3.0<\/td>\n",
       "      <td>4.00<\/td>\n",
       "      <td>4.0<\/td>\n",
       "      <td>8.00<\/td>\n",
       "      <td>8.0<\/td>\n",
       "    <\/tr>\n",
       "    <tr>\n",
       "      <th>Displacement<\/th>\n",
       "      <td>314.0<\/td>\n",
       "      <td>195.318471<\/td>\n",
       "      <td>104.331589<\/td>\n",
       "      <td>68.0<\/td>\n",
       "      <td>105.50<\/td>\n",
       "      <td>151.0<\/td>\n",
       "      <td>265.75<\/td>\n",
       "      <td>455.0<\/td>\n",
       "    <\/tr>\n",
       "    <tr>\n",
       "      <th>Horsepower<\/th>\n",
       "      <td>314.0<\/td>\n",
       "      <td>104.869427<\/td>\n",
       "      <td>38.096214<\/td>\n",
       "      <td>46.0<\/td>\n",
       "      <td>76.25<\/td>\n",
       "      <td>94.5<\/td>\n",
       "      <td>128.00<\/td>\n",
       "      <td>225.0<\/td>\n",
       "    <\/tr>\n",
       "    <tr>\n",
       "      <th>Weight<\/th>\n",
       "      <td>314.0<\/td>\n",
       "      <td>2990.251592<\/td>\n",
       "      <td>843.898596<\/td>\n",
       "      <td>1649.0<\/td>\n",
       "      <td>2256.50<\/td>\n",
       "      <td>2822.5<\/td>\n",
       "      <td>3608.00<\/td>\n",
       "      <td>5140.0<\/td>\n",
       "    <\/tr>\n",
       "    <tr>\n",
       "      <th>Acceleration<\/th>\n",
       "      <td>314.0<\/td>\n",
       "      <td>15.559236<\/td>\n",
       "      <td>2.789230<\/td>\n",
       "      <td>8.0<\/td>\n",
       "      <td>13.80<\/td>\n",
       "      <td>15.5<\/td>\n",
       "      <td>17.20<\/td>\n",
       "      <td>24.8<\/td>\n",
       "    <\/tr>\n",
       "    <tr>\n",
       "      <th>Model Year<\/th>\n",
       "      <td>314.0<\/td>\n",
       "      <td>75.898089<\/td>\n",
       "      <td>3.675642<\/td>\n",
       "      <td>70.0<\/td>\n",
       "      <td>73.00<\/td>\n",
       "      <td>76.0<\/td>\n",
       "      <td>79.00<\/td>\n",
       "      <td>82.0<\/td>\n",
       "    <\/tr>\n",
       "    <tr>\n",
       "      <th>Europe<\/th>\n",
       "      <td>314.0<\/td>\n",
       "      <td>0.178344<\/td>\n",
       "      <td>0.383413<\/td>\n",
       "      <td>0.0<\/td>\n",
       "      <td>0.00<\/td>\n",
       "      <td>0.0<\/td>\n",
       "      <td>0.00<\/td>\n",
       "      <td>1.0<\/td>\n",
       "    <\/tr>\n",
       "    <tr>\n",
       "      <th>Japan<\/th>\n",
       "      <td>314.0<\/td>\n",
       "      <td>0.197452<\/td>\n",
       "      <td>0.398712<\/td>\n",
       "      <td>0.0<\/td>\n",
       "      <td>0.00<\/td>\n",
       "      <td>0.0<\/td>\n",
       "      <td>0.00<\/td>\n",
       "      <td>1.0<\/td>\n",
       "    <\/tr>\n",
       "    <tr>\n",
       "      <th>USA<\/th>\n",
       "      <td>314.0<\/td>\n",
       "      <td>0.624204<\/td>\n",
       "      <td>0.485101<\/td>\n",
       "      <td>0.0<\/td>\n",
       "      <td>0.00<\/td>\n",
       "      <td>1.0<\/td>\n",
       "      <td>1.00<\/td>\n",
       "      <td>1.0<\/td>\n",
       "    <\/tr>\n",
       "  <\/tbody>\n",
       "<\/table>\n",
       "<\/div>"
      ]
     },
     "metadata":{
      
     },
     "output_type":"display_data"
    }
   ],
   "metadata":{
    "datalore":{
     "node_id":"qa6tmID1PsAew7jhWg7INK",
     "type":"CODE",
     "hide_input_from_viewers":false,
     "hide_output_from_viewers":false,
     "report_properties":{
      "rowId":"7Ochxyym17EbRjOW2DKVQ7"
     }
    }
   }
  },
  {
   "cell_type":"code",
   "source":[
    "train_features = train_dataset.copy()\n",
    "test_features = test_dataset.copy()\n",
    "\n",
    "train_labels = train_features.pop('MPG')\n",
    "test_labels = test_features.pop('MPG')"
   ],
   "execution_count":14,
   "outputs":[
    
   ],
   "metadata":{
    "datalore":{
     "node_id":"1YfwfK9sYCrSUaoGn87FVo",
     "type":"CODE",
     "hide_input_from_viewers":true,
     "hide_output_from_viewers":true
    }
   }
  },
  {
   "cell_type":"code",
   "source":[
    "#Normalizacja\n",
    "\n",
    "train_dataset.describe().transpose()[['mean','std']]"
   ],
   "execution_count":15,
   "outputs":[
    {
     "data":{
      "text\/html":[
       "<div>\n",
       "<style scoped>\n",
       "    .dataframe tbody tr th:only-of-type {\n",
       "        vertical-align: middle;\n",
       "    }\n",
       "\n",
       "    .dataframe tbody tr th {\n",
       "        vertical-align: top;\n",
       "    }\n",
       "\n",
       "    .dataframe thead th {\n",
       "        text-align: right;\n",
       "    }\n",
       "<\/style>\n",
       "<table border=\"1\" class=\"dataframe\">\n",
       "  <thead>\n",
       "    <tr style=\"text-align: right;\">\n",
       "      <th><\/th>\n",
       "      <th>mean<\/th>\n",
       "      <th>std<\/th>\n",
       "    <\/tr>\n",
       "  <\/thead>\n",
       "  <tbody>\n",
       "    <tr>\n",
       "      <th>MPG<\/th>\n",
       "      <td>23.310510<\/td>\n",
       "      <td>7.728652<\/td>\n",
       "    <\/tr>\n",
       "    <tr>\n",
       "      <th>Cylinders<\/th>\n",
       "      <td>5.477707<\/td>\n",
       "      <td>1.699788<\/td>\n",
       "    <\/tr>\n",
       "    <tr>\n",
       "      <th>Displacement<\/th>\n",
       "      <td>195.318471<\/td>\n",
       "      <td>104.331589<\/td>\n",
       "    <\/tr>\n",
       "    <tr>\n",
       "      <th>Horsepower<\/th>\n",
       "      <td>104.869427<\/td>\n",
       "      <td>38.096214<\/td>\n",
       "    <\/tr>\n",
       "    <tr>\n",
       "      <th>Weight<\/th>\n",
       "      <td>2990.251592<\/td>\n",
       "      <td>843.898596<\/td>\n",
       "    <\/tr>\n",
       "    <tr>\n",
       "      <th>Acceleration<\/th>\n",
       "      <td>15.559236<\/td>\n",
       "      <td>2.789230<\/td>\n",
       "    <\/tr>\n",
       "    <tr>\n",
       "      <th>Model Year<\/th>\n",
       "      <td>75.898089<\/td>\n",
       "      <td>3.675642<\/td>\n",
       "    <\/tr>\n",
       "    <tr>\n",
       "      <th>Europe<\/th>\n",
       "      <td>0.178344<\/td>\n",
       "      <td>0.383413<\/td>\n",
       "    <\/tr>\n",
       "    <tr>\n",
       "      <th>Japan<\/th>\n",
       "      <td>0.197452<\/td>\n",
       "      <td>0.398712<\/td>\n",
       "    <\/tr>\n",
       "    <tr>\n",
       "      <th>USA<\/th>\n",
       "      <td>0.624204<\/td>\n",
       "      <td>0.485101<\/td>\n",
       "    <\/tr>\n",
       "  <\/tbody>\n",
       "<\/table>\n",
       "<\/div>"
      ]
     },
     "metadata":{
      
     },
     "output_type":"display_data"
    }
   ],
   "metadata":{
    "datalore":{
     "node_id":"TXZXm0YI6E0etonEespEnI",
     "type":"CODE",
     "hide_input_from_viewers":true,
     "hide_output_from_viewers":true
    }
   }
  },
  {
   "cell_type":"code",
   "source":[
    "normalizer = tf.keras.layers.Normalization(axis=-1)"
   ],
   "execution_count":16,
   "outputs":[
    
   ],
   "metadata":{
    "datalore":{
     "node_id":"ijOOn6Ap0H2oc7URLcI8I0",
     "type":"CODE",
     "hide_input_from_viewers":true,
     "hide_output_from_viewers":true
    }
   }
  },
  {
   "cell_type":"code",
   "source":[
    "normalizer.adapt(np.array(train_features))"
   ],
   "execution_count":17,
   "outputs":[
    
   ],
   "metadata":{
    "datalore":{
     "node_id":"8RCNQDFZ9ZBWwA5DCfAAW0",
     "type":"CODE",
     "hide_input_from_viewers":true,
     "hide_output_from_viewers":true
    }
   }
  },
  {
   "cell_type":"code",
   "source":[
    "print(normalizer.mean.numpy())"
   ],
   "execution_count":18,
   "outputs":[
    {
     "name":"stdout",
     "text":[
      "[[   5.478  195.318  104.869 2990.252   15.559   75.898    0.178    0.197\n",
      "     0.624]]\n"
     ],
     "output_type":"stream"
    }
   ],
   "metadata":{
    "datalore":{
     "node_id":"k3ii9YQDEAqYWBS3AesOKp",
     "type":"CODE",
     "hide_input_from_viewers":true,
     "hide_output_from_viewers":true
    }
   }
  },
  {
   "cell_type":"code",
   "source":[
    "first = np.array(train_features[:1])\n",
    "\n",
    "with np.printoptions(precision=2,suppress=True):\n",
    "    print(f'Pierwszy rekrod: {first}\\n')\n",
    "    print(f\"wartości znormalizowane \/pierwszego\/: {normalizer(first).numpy()}\")"
   ],
   "execution_count":19,
   "outputs":[
    {
     "name":"stdout",
     "text":[
      "Pierwszy rekrod: [[   4.    90.    75.  2125.    14.5   74.     0.     0.     1. ]]\n",
      "\n",
      "wartości znormalizowane \/pierwszego\/: [[-0.87 -1.01 -0.79 -1.03 -0.38 -0.52 -0.47 -0.5   0.78]]\n"
     ],
     "output_type":"stream"
    }
   ],
   "metadata":{
    "datalore":{
     "node_id":"UVkxcMaNMjMi443tiGP7dI",
     "type":"CODE",
     "hide_input_from_viewers":true,
     "hide_output_from_viewers":true
    }
   }
  },
  {
   "cell_type":"code",
   "source":[
    "#Regresja liniowa z jedną zmienną\n",
    "#Zbuduj model do predykcji \/regresja\/ wartości spalania silnika na podstawie zadanej wartości: HorsePower [kM]\n",
    "\n",
    "horsepower = np.array(train_features['Horsepower'])\n",
    "\n",
    "horsepower_nomalizer = layers.Normalization(input_shape=[1,], axis=None)\n",
    "horsepower_nomalizer.adapt(horsepower)"
   ],
   "execution_count":20,
   "outputs":[
    
   ],
   "metadata":{
    "datalore":{
     "node_id":"fPRPUWnxjWqx3JyITI0OP2",
     "type":"CODE",
     "hide_input_from_viewers":true,
     "hide_output_from_viewers":true
    }
   }
  },
  {
   "cell_type":"code",
   "source":[
    "horsepower_model = tf.keras.Sequential([\n",
    "    horsepower_nomalizer,\n",
    "    layers.Dense(units=1)\n",
    "])\n",
    "\n",
    "horsepower_model.summary()"
   ],
   "execution_count":21,
   "outputs":[
    {
     "name":"stdout",
     "text":[
      "Model: \"sequential\"\n",
      "_________________________________________________________________\n",
      " Layer (type)                Output Shape              Param #   \n",
      "=================================================================\n",
      " normalization_1 (Normalizat  (None, 1)                3         \n",
      " ion)                                                            \n",
      "                                                                 \n",
      " dense (Dense)               (None, 1)                 2         \n",
      "                                                                 \n",
      "=================================================================\n",
      "Total params: 5\n",
      "Trainable params: 2\n",
      "Non-trainable params: 3\n",
      "_________________________________________________________________\n"
     ],
     "output_type":"stream"
    }
   ],
   "metadata":{
    "datalore":{
     "node_id":"Ux5yapGYh2g7A09zyeURuB",
     "type":"CODE",
     "hide_input_from_viewers":true,
     "hide_output_from_viewers":true
    }
   }
  },
  {
   "cell_type":"code",
   "source":[
    "horsepower_model.predict(horsepower[:10])"
   ],
   "execution_count":22,
   "outputs":[
    {
     "name":"stdout",
     "text":[
      "\r1\/1 [==============================] - ETA: 0s\b\b\b\b\b\b\b\b\b\b\b\b\b\b\b\b\b\b\b\b\b\b\b\b\b\b\b\b\b\b\b\b\b\b\b\b\b\b\b\b\b\b\b\b\b\b\r1\/1 [==============================] - 1s 505ms\/step\n"
     ],
     "output_type":"stream"
    },
    {
     "data":{
      "text\/html":[
       "<pre>array([[ 1.182],\n",
       "       [ 0.668],\n",
       "       [-2.182],\n",
       "       [ 1.657],\n",
       "       [ 1.499],\n",
       "       [ 0.588],\n",
       "       [ 1.776],\n",
       "       [ 1.499],\n",
       "       [ 0.391],\n",
       "       [ 0.668]], dtype=float32)<\/pre>"
      ]
     },
     "metadata":{
      
     },
     "output_type":"display_data"
    }
   ],
   "metadata":{
    "datalore":{
     "node_id":"aEmPfhoQ3QRDAWJ9NlFnPL",
     "type":"CODE",
     "hide_input_from_viewers":true,
     "hide_output_from_viewers":true
    }
   }
  },
  {
   "cell_type":"code",
   "source":[
    "horsepower_model.compile(\n",
    "    optimizer = tf.optimizers.Adam(learning_rate=0.1),\n",
    "    loss='mean_absolute_error'\n",
    ")"
   ],
   "execution_count":23,
   "outputs":[
    
   ],
   "metadata":{
    "datalore":{
     "node_id":"LVCV4KXlSXR7zc04mlEfO7",
     "type":"CODE",
     "hide_input_from_viewers":true,
     "hide_output_from_viewers":true
    }
   }
  },
  {
   "cell_type":"code",
   "source":[
    "%%time\n",
    "history = horsepower_model.fit(\n",
    "    train_features['Horsepower'],\n",
    "    train_labels,\n",
    "    epochs=100,\n",
    "    verbose=0,\n",
    "    validation_split=0.2\n",
    ")"
   ],
   "execution_count":24,
   "outputs":[
    {
     "name":"stdout",
     "text":[
      "CPU times: user 21.9 s, sys: 354 ms, total: 22.3 s\n",
      "Wall time: 35 s\n"
     ],
     "output_type":"stream"
    }
   ],
   "metadata":{
    "datalore":{
     "node_id":"j0wPciEcExDolb8PxV5G4e",
     "type":"CODE",
     "hide_input_from_viewers":true,
     "hide_output_from_viewers":true
    }
   }
  },
  {
   "cell_type":"code",
   "source":[
    "hist = pd.DataFrame(history.history)\n",
    "hist['epoch']=history.epoch\n",
    "hist.tail()"
   ],
   "execution_count":25,
   "outputs":[
    {
     "data":{
      "text\/html":[
       "<div>\n",
       "<style scoped>\n",
       "    .dataframe tbody tr th:only-of-type {\n",
       "        vertical-align: middle;\n",
       "    }\n",
       "\n",
       "    .dataframe tbody tr th {\n",
       "        vertical-align: top;\n",
       "    }\n",
       "\n",
       "    .dataframe thead th {\n",
       "        text-align: right;\n",
       "    }\n",
       "<\/style>\n",
       "<table border=\"1\" class=\"dataframe\">\n",
       "  <thead>\n",
       "    <tr style=\"text-align: right;\">\n",
       "      <th><\/th>\n",
       "      <th>loss<\/th>\n",
       "      <th>val_loss<\/th>\n",
       "      <th>epoch<\/th>\n",
       "    <\/tr>\n",
       "  <\/thead>\n",
       "  <tbody>\n",
       "    <tr>\n",
       "      <th>95<\/th>\n",
       "      <td>3.804138<\/td>\n",
       "      <td>4.181762<\/td>\n",
       "      <td>95<\/td>\n",
       "    <\/tr>\n",
       "    <tr>\n",
       "      <th>96<\/th>\n",
       "      <td>3.808878<\/td>\n",
       "      <td>4.199401<\/td>\n",
       "      <td>96<\/td>\n",
       "    <\/tr>\n",
       "    <tr>\n",
       "      <th>97<\/th>\n",
       "      <td>3.802306<\/td>\n",
       "      <td>4.174491<\/td>\n",
       "      <td>97<\/td>\n",
       "    <\/tr>\n",
       "    <tr>\n",
       "      <th>98<\/th>\n",
       "      <td>3.804836<\/td>\n",
       "      <td>4.164090<\/td>\n",
       "      <td>98<\/td>\n",
       "    <\/tr>\n",
       "    <tr>\n",
       "      <th>99<\/th>\n",
       "      <td>3.803505<\/td>\n",
       "      <td>4.176768<\/td>\n",
       "      <td>99<\/td>\n",
       "    <\/tr>\n",
       "  <\/tbody>\n",
       "<\/table>\n",
       "<\/div>"
      ]
     },
     "metadata":{
      
     },
     "output_type":"display_data"
    }
   ],
   "metadata":{
    "datalore":{
     "node_id":"H04mgiTO2Q5SzVDZbutr2l",
     "type":"CODE",
     "hide_input_from_viewers":true,
     "hide_output_from_viewers":true
    }
   }
  },
  {
   "cell_type":"code",
   "source":[
    "hist.to_csv('horsepow_epochs.csv')"
   ],
   "execution_count":26,
   "outputs":[
    
   ],
   "metadata":{
    "datalore":{
     "node_id":"OfPix3HO7G0aBNgzNMf8pt",
     "type":"CODE",
     "hide_input_from_viewers":true,
     "hide_output_from_viewers":true
    }
   }
  },
  {
   "cell_type":"code",
   "source":[
    "def plot_loss(history):\n",
    "    plt.plot(history.history['loss'], label='loss')\n",
    "    plt.plot(history.history['val_loss'],label='val_loss')\n",
    "    plt.ylim([0,10])\n",
    "    plt.xlabel('Epoka')\n",
    "    plt.ylabel('Błąd [MPG]')\n",
    "    plt.legend()\n",
    "    plt.grid(True)"
   ],
   "execution_count":27,
   "outputs":[
    
   ],
   "metadata":{
    "datalore":{
     "node_id":"ysCUB6gS1t7sKNz6rAzWqY",
     "type":"CODE",
     "hide_input_from_viewers":true,
     "hide_output_from_viewers":true
    }
   }
  },
  {
   "cell_type":"code",
   "source":[
    "plot_loss(history)"
   ],
   "execution_count":28,
   "outputs":[
    {
     "data":{
      "image\/png":"[encoded data removed]"
     },
     "metadata":{
      "image\/png":{
       
      }
     },
     "output_type":"display_data"
    }
   ],
   "metadata":{
    "datalore":{
     "node_id":"O1mf6DYjJoUB14eFKRNdE5",
     "type":"CODE",
     "hide_input_from_viewers":true,
     "hide_output_from_viewers":true
    }
   }
  },
  {
   "cell_type":"code",
   "source":[
    "test_results = {}\n",
    "test_results['horsepower_model']=horsepower_model.evaluate(\n",
    "    test_features['Horsepower'],\n",
    "    test_labels,\n",
    "    verbose=0\n",
    ")"
   ],
   "execution_count":29,
   "outputs":[
    
   ],
   "metadata":{
    "datalore":{
     "node_id":"1A8d88vSGRNnIHHz89dFEe",
     "type":"CODE",
     "hide_input_from_viewers":true,
     "hide_output_from_viewers":true
    }
   }
  },
  {
   "cell_type":"code",
   "source":[
    "x = tf.linspace(0.0,250,251)\n",
    "y = horsepower_model.predict(x)"
   ],
   "execution_count":30,
   "outputs":[
    {
     "name":"stdout",
     "text":[
      "\r1\/8 [==>...........................] - ETA: 3s\b\b\b\b\b\b\b\b\b\b\b\b\b\b\b\b\b\b\b\b\b\b\b\b\b\b\b\b\b\b\b\b\b\b\b\b\b\b\b\b\b\b\b\b\b\b\r6\/8 [=====================>........] - ETA: 0s\b\b\b\b\b\b\b\b\b\b\b\b\b\b\b\b\b\b\b\b\b\b\b\b\b\b\b\b\b\b\b\b\b\b\b\b\b\b\b\b\b\b\b\b\b\b\r8\/8 [==============================] - 1s 13ms\/step\n"
     ],
     "output_type":"stream"
    }
   ],
   "metadata":{
    "datalore":{
     "node_id":"niyHhZLmAhltB1HSpeUpPF",
     "type":"CODE",
     "hide_input_from_viewers":true,
     "hide_output_from_viewers":true
    }
   }
  },
  {
   "cell_type":"code",
   "source":[
    "def plot_horsepower(x,y):\n",
    "    plt.scatter(train_features['Horsepower'],train_labels,label='Data')\n",
    "    plt.plot(x,y,color='k',label='Predictions')\n",
    "    plt.xlabel('Horsepower')\n",
    "    plt.ylabel('MPG')\n",
    "    plt.legend()"
   ],
   "execution_count":31,
   "outputs":[
    
   ],
   "metadata":{
    "datalore":{
     "node_id":"MaAIRsGbLMfw4pHJtQgBfU",
     "type":"CODE",
     "hide_input_from_viewers":true,
     "hide_output_from_viewers":true
    }
   }
  },
  {
   "cell_type":"code",
   "source":[
    "plot_horsepower(x,y)"
   ],
   "execution_count":32,
   "outputs":[
    {
     "data":{
      "image\/png":"[encoded data removed]"
     },
     "metadata":{
      "image\/png":{
       
      }
     },
     "output_type":"display_data"
    }
   ],
   "metadata":{
    "datalore":{
     "node_id":"tgYdtt19WWzaD7ywz9Ufgf",
     "type":"CODE",
     "hide_input_from_viewers":true,
     "hide_output_from_viewers":true
    }
   }
  },
  {
   "cell_type":"code",
   "source":[
    "#regresja z głęboką siecią neuronową (DNN)\n",
    "def build_and_compile_model(norm):\n",
    "    model = keras.Sequential([\n",
    "        norm,\n",
    "        layers.Dense(64,activation='relu'),\n",
    "        layers.Dense(64,activation='relu'),\n",
    "        layers.Dense(1)\n",
    "    ])\n",
    "\n",
    "    model.compile(loss='mean_absolute_error', optimizer=tf.keras.optimizers.Adam(0.001))\n",
    "    return model"
   ],
   "execution_count":33,
   "outputs":[
    
   ],
   "metadata":{
    "datalore":{
     "node_id":"zr2mGa7vlTW78X7JKEOUNR",
     "type":"CODE",
     "hide_input_from_viewers":true,
     "hide_output_from_viewers":true
    }
   }
  },
  {
   "cell_type":"code",
   "source":[
    "#regresja z użyciem DNN i pojedyńczego wejścia\n",
    "dnn_horsepower_model = build_and_compile_model(horsepower_nomalizer)\n",
    "dnn_horsepower_model.summary()"
   ],
   "execution_count":34,
   "outputs":[
    {
     "name":"stdout",
     "text":[
      "Model: \"sequential_1\"\n",
      "_________________________________________________________________\n",
      " Layer (type)                Output Shape              Param #   \n",
      "=================================================================\n",
      " normalization_1 (Normalizat  (None, 1)                3         \n",
      " ion)                                                            \n",
      "                                                                 \n",
      " dense_1 (Dense)             (None, 64)                128       \n",
      "                                                                 \n",
      " dense_2 (Dense)             (None, 64)                4160      \n",
      "                                                                 \n",
      " dense_3 (Dense)             (None, 1)                 65        \n",
      "                                                                 \n",
      "=================================================================\n",
      "Total params: 4,356\n",
      "Trainable params: 4,353\n",
      "Non-trainable params: 3\n",
      "_________________________________________________________________\n"
     ],
     "output_type":"stream"
    }
   ],
   "metadata":{
    "datalore":{
     "node_id":"btpM6AEZykhPLKzASIAFqY",
     "type":"CODE",
     "hide_input_from_viewers":true,
     "hide_output_from_viewers":true
    }
   }
  },
  {
   "cell_type":"code",
   "source":[
    "%%time\n",
    "history = dnn_horsepower_model.fit(\n",
    "    train_features['Horsepower'],\n",
    "    train_labels,\n",
    "    validation_split = 0.2,\n",
    "    verbose = 0,\n",
    "    epochs = 100\n",
    ")"
   ],
   "execution_count":35,
   "outputs":[
    {
     "name":"stdout",
     "text":[
      "CPU times: user 3.99 s, sys: 303 ms, total: 4.3 s\n",
      "Wall time: 3.9 s\n"
     ],
     "output_type":"stream"
    }
   ],
   "metadata":{
    "datalore":{
     "node_id":"Qqc8otwb5r23KvjdmbKgrj",
     "type":"CODE",
     "hide_input_from_viewers":true,
     "hide_output_from_viewers":true
    }
   }
  },
  {
   "cell_type":"code",
   "source":[
    "plot_loss(history)"
   ],
   "execution_count":36,
   "outputs":[
    {
     "data":{
      "image\/png":"[encoded data removed]"
     },
     "metadata":{
      "image\/png":{
       
      }
     },
     "output_type":"display_data"
    }
   ],
   "metadata":{
    "datalore":{
     "node_id":"E9BOBzXVG8BoM874KRrt3q",
     "type":"CODE",
     "hide_input_from_viewers":true,
     "hide_output_from_viewers":true
    }
   }
  },
  {
   "cell_type":"code",
   "source":[
    "x = tf.linspace(0.0,250,251)\n",
    "y = dnn_horsepower_model.predict(x)"
   ],
   "execution_count":37,
   "outputs":[
    {
     "name":"stdout",
     "text":[
      "\r1\/8 [==>...........................] - ETA: 0s\b\b\b\b\b\b\b\b\b\b\b\b\b\b\b\b\b\b\b\b\b\b\b\b\b\b\b\b\b\b\b\b\b\b\b\b\b\b\b\b\b\b\b\b\b\b\r8\/8 [==============================] - 0s 1ms\/step\n"
     ],
     "output_type":"stream"
    }
   ],
   "metadata":{
    "datalore":{
     "node_id":"cPPVh70vY9AEDwxdeXslCh",
     "type":"CODE",
     "hide_input_from_viewers":true,
     "hide_output_from_viewers":true
    }
   }
  },
  {
   "cell_type":"code",
   "source":[
    "plot_horsepower(x,y)"
   ],
   "execution_count":38,
   "outputs":[
    {
     "data":{
      "image\/png":"[encoded data removed]"
     },
     "metadata":{
      "image\/png":{
       
      }
     },
     "output_type":"display_data"
    }
   ],
   "metadata":{
    "datalore":{
     "node_id":"CdKGRgGdEz61Ni0J6OiAR6",
     "type":"CODE",
     "hide_input_from_viewers":true,
     "hide_output_from_viewers":true
    }
   }
  },
  {
   "cell_type":"code",
   "source":[
    "test_results['dnn_horsepower_model'] = dnn_horsepower_model.evaluate(\n",
    "    test_features['Horsepower'],test_labels\n",
    ")"
   ],
   "execution_count":40,
   "outputs":[
    {
     "name":"stdout",
     "text":[
      "\r1\/3 [=========>....................] - ETA: 0s - loss: 2.4770\b\b\b\b\b\b\b\b\b\b\b\b\b\b\b\b\b\b\b\b\b\b\b\b\b\b\b\b\b\b\b\b\b\b\b\b\b\b\b\b\b\b\b\b\b\b\b\b\b\b\b\b\b\b\b\b\b\b\b\b\b\r3\/3 [==============================] - 0s 2ms\/step - loss: 2.9032\n"
     ],
     "output_type":"stream"
    }
   ],
   "metadata":{
    "datalore":{
     "node_id":"Hc4ftG7XgnLaE37Z2NVxTt",
     "type":"CODE",
     "hide_input_from_viewers":true,
     "hide_output_from_viewers":true
    }
   }
  },
  {
   "cell_type":"code",
   "source":[
    "#regresja przy użyciu DNN i wielu danych wejściowych\n",
    "dnn_model = build_and_compile_model(normalizer)\n",
    "dnn_model.summary()"
   ],
   "execution_count":41,
   "outputs":[
    {
     "name":"stdout",
     "text":[
      "Model: \"sequential_2\"\n",
      "_________________________________________________________________\n",
      " Layer (type)                Output Shape              Param #   \n",
      "=================================================================\n",
      " normalization (Normalizatio  (None, 9)                19        \n",
      " n)                                                              \n",
      "                                                                 \n",
      " dense_4 (Dense)             (None, 64)                640       \n",
      "                                                                 \n",
      " dense_5 (Dense)             (None, 64)                4160      \n",
      "                                                                 \n",
      " dense_6 (Dense)             (None, 1)                 65        \n",
      "                                                                 \n",
      "=================================================================\n",
      "Total params: 4,884\n",
      "Trainable params: 4,865\n",
      "Non-trainable params: 19\n",
      "_________________________________________________________________\n"
     ],
     "output_type":"stream"
    }
   ],
   "metadata":{
    "datalore":{
     "node_id":"tZRWpRx0U5TZj0sCmFNiZQ",
     "type":"CODE",
     "hide_input_from_viewers":true,
     "hide_output_from_viewers":true
    }
   }
  },
  {
   "cell_type":"code",
   "source":[
    "%%time\n",
    "history = dnn_model.fit(\n",
    "    train_features,\n",
    "    train_labels,\n",
    "    validation_split = 0.2,\n",
    "    verbose = 0,\n",
    "    epochs = 100\n",
    ")"
   ],
   "execution_count":42,
   "outputs":[
    {
     "name":"stdout",
     "text":[
      "CPU times: user 4.53 s, sys: 265 ms, total: 4.79 s\n",
      "Wall time: 4.41 s\n"
     ],
     "output_type":"stream"
    }
   ],
   "metadata":{
    "datalore":{
     "node_id":"MDxzdNahpoErQK8ZuVcRAE",
     "type":"CODE",
     "hide_input_from_viewers":true,
     "hide_output_from_viewers":true
    }
   }
  },
  {
   "cell_type":"code",
   "source":[
    "plot_loss(history)"
   ],
   "execution_count":43,
   "outputs":[
    {
     "data":{
      "image\/png":"[encoded data removed]"
     },
     "metadata":{
      "image\/png":{
       
      }
     },
     "output_type":"display_data"
    }
   ],
   "metadata":{
    "datalore":{
     "node_id":"vzt8htVtVxAJvjfUFI4qQj",
     "type":"CODE",
     "hide_input_from_viewers":true,
     "hide_output_from_viewers":true
    }
   }
  },
  {
   "cell_type":"code",
   "source":[
    "test_results['dnn_model'] = dnn_model.evaluate(test_features,test_labels,verbose=0)"
   ],
   "execution_count":45,
   "outputs":[
    
   ],
   "metadata":{
    "datalore":{
     "node_id":"sNePQ2a003uP3xtNugXshW",
     "type":"CODE",
     "hide_input_from_viewers":true,
     "hide_output_from_viewers":true
    }
   }
  },
  {
   "cell_type":"code",
   "source":[
    "pd.DataFrame(test_results,index=['Mean absolute error [MPG]']).T"
   ],
   "execution_count":46,
   "outputs":[
    {
     "data":{
      "text\/html":[
       "<div>\n",
       "<style scoped>\n",
       "    .dataframe tbody tr th:only-of-type {\n",
       "        vertical-align: middle;\n",
       "    }\n",
       "\n",
       "    .dataframe tbody tr th {\n",
       "        vertical-align: top;\n",
       "    }\n",
       "\n",
       "    .dataframe thead th {\n",
       "        text-align: right;\n",
       "    }\n",
       "<\/style>\n",
       "<table border=\"1\" class=\"dataframe\">\n",
       "  <thead>\n",
       "    <tr style=\"text-align: right;\">\n",
       "      <th><\/th>\n",
       "      <th>Mean absolute error [MPG]<\/th>\n",
       "    <\/tr>\n",
       "  <\/thead>\n",
       "  <tbody>\n",
       "    <tr>\n",
       "      <th>horsepower_model<\/th>\n",
       "      <td>3.658373<\/td>\n",
       "    <\/tr>\n",
       "    <tr>\n",
       "      <th>dnn_horsepower_model<\/th>\n",
       "      <td>2.903207<\/td>\n",
       "    <\/tr>\n",
       "    <tr>\n",
       "      <th>dnn_model<\/th>\n",
       "      <td>1.788212<\/td>\n",
       "    <\/tr>\n",
       "  <\/tbody>\n",
       "<\/table>\n",
       "<\/div>"
      ]
     },
     "metadata":{
      
     },
     "output_type":"display_data"
    }
   ],
   "metadata":{
    "datalore":{
     "node_id":"c9KqVQyMqr3t9vZMeytb63",
     "type":"CODE",
     "hide_input_from_viewers":true,
     "hide_output_from_viewers":true
    }
   }
  }
 ],
 "metadata":{
  "kernelspec":{
   "display_name":"Python",
   "language":"python",
   "name":"python"
  },
  "datalore":{
   "computation_mode":"JUPYTER",
   "package_manager":"pip",
   "base_environment":"default",
   "packages":[
    
   ],
   "report_row_ids":[
    "qNWwEC7wc0idAzJW22yxvi",
    "azA83995KTAsoHsR55S8YI",
    "rgbBX9eympuvqd2XciO3Hn",
    "LCw3yKQ0vOLh64lGI2ZqBf",
    "w3GYM7RsANKS3CMEexYtWc",
    "YZYZQC2oJx9uqcKXAvlxN7",
    "WNtfRB3uEcPgOm2XVdNs4T",
    "r32TZsWGRPUskBJCw8wyxX",
    "In3egQjbL9rSQPPOVuWQjF",
    "4B1EzjIxk9EwfFjLeJFnvj",
    "0vhJSrYNXHnq3nfpcBuH3G",
    "4wcTfqsEFA9y1aoZpgdmzf",
    "7Ochxyym17EbRjOW2DKVQ7"
   ],
   "version":3
  }
 },
 "nbformat":4,
 "nbformat_minor":4
}